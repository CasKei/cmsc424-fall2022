{
 "cells": [
  {
   "cell_type": "code",
   "execution_count": 5,
   "id": "ea0864b3",
   "metadata": {},
   "outputs": [
    {
     "data": {
      "text/plain": [
       "[]"
      ]
     },
     "execution_count": 5,
     "metadata": {},
     "output_type": "execute_result"
    }
   ],
   "source": [
    "import pymongo\n",
    "import bson\n",
    "client = pymongo.MongoClient(\"localhost\", 27017)\n",
    "db = client[\"examples\"]\n",
    "inventory1 = db[\"inventory1\"]\n",
    "\n",
    "list(db[\"zips\"].find({}))"
   ]
  },
  {
   "cell_type": "code",
   "execution_count": 2,
   "id": "f8d3c50f",
   "metadata": {},
   "outputs": [
    {
     "data": {
      "text/plain": [
       "<pymongo.results.InsertManyResult at 0x7f9e7cdbbdf0>"
      ]
     },
     "execution_count": 2,
     "metadata": {},
     "output_type": "execute_result"
    }
   ],
   "source": [
    "inventory1_data = [\n",
    "    { \"_id\" : bson.objectid.ObjectId(\"5fb55fad75b4eb537dc3d993\"), \"item\" : \"journal\", \"qty\" : 25, \"size\" : {\"h\" : 14, \"w\" : 21, \"uom\" : \"cm\" }, \"status\" : \"A\"}, \n",
    "    { \"_id\" : bson.objectid.ObjectId(\"5fb55fad75b4eb537dc3d994\"), \"item\" : \"notebook\", \"qty\" : 50, \"size\" : { \"h\" : 8.5, \"w\" : 11, \"uom\" : \"in\" }, \"status\" : \"A\" }, \n",
    "    { \"_id\" : bson.objectid.ObjectId(\"5fb55fad75b4eb537dc3d995\"), \"item\" : \"paper\", \"qty\" : 100, \"size\" : { \"h\" : 8.5, \"w\" : 11, \"uom\" : \"in\" }, \"status\" : \"D\" },\n",
    "    { \"_id\" : bson.objectid.ObjectId(\"5fb55fad75b4eb537dc3d996\"), \"item\" : \"planner\", \"qty\" : 75, \"size\" : { \"h\" : 22.85, \"w\" : 30, \"uom\" : \"cm\" }, \"status\" : \"D\" }, \n",
    "    { \"_id\" : bson.objectid.ObjectId(\"5fb55fad75b4eb537dc3d997\"), \"item\" : \"postcard\", \"qty\" : 45, \"size\" : {\"h\" : 10, \"w\" : 15.25, \"uom\" : \"cm\" }, \"status\" : \"A\" } \n",
    "]\n",
    "inventory1.insert_many(inventory1_data)"
   ]
  },
  {
   "cell_type": "code",
   "execution_count": 3,
   "id": "311652ff",
   "metadata": {},
   "outputs": [
    {
     "data": {
      "text/plain": [
       "[{'_id': ObjectId('5fb55fad75b4eb537dc3d995'),\n",
       "  'item': 'paper',\n",
       "  'qty': 100,\n",
       "  'size': {'h': 8.5, 'w': 11, 'uom': 'in'},\n",
       "  'status': 'D'},\n",
       " {'_id': ObjectId('5fb55fad75b4eb537dc3d996'),\n",
       "  'item': 'planner',\n",
       "  'qty': 75,\n",
       "  'size': {'h': 22.85, 'w': 30, 'uom': 'cm'},\n",
       "  'status': 'D'}]"
      ]
     },
     "execution_count": 3,
     "metadata": {},
     "output_type": "execute_result"
    }
   ],
   "source": [
    "list(inventory1.find({\"status\": \"D\"}))"
   ]
  },
  {
   "cell_type": "code",
   "execution_count": 4,
   "id": "3a5e3c44",
   "metadata": {},
   "outputs": [
    {
     "data": {
      "text/plain": [
       "[{'_id': ObjectId('5fb55fad75b4eb537dc3d994'),\n",
       "  'item': 'notebook',\n",
       "  'qty': 50,\n",
       "  'size': {'h': 8.5, 'w': 11, 'uom': 'in'},\n",
       "  'status': 'A'},\n",
       " {'_id': ObjectId('5fb55fad75b4eb537dc3d995'),\n",
       "  'item': 'paper',\n",
       "  'qty': 100,\n",
       "  'size': {'h': 8.5, 'w': 11, 'uom': 'in'},\n",
       "  'status': 'D'},\n",
       " {'_id': ObjectId('5fb55fad75b4eb537dc3d996'),\n",
       "  'item': 'planner',\n",
       "  'qty': 75,\n",
       "  'size': {'h': 22.85, 'w': 30, 'uom': 'cm'},\n",
       "  'status': 'D'}]"
      ]
     },
     "execution_count": 4,
     "metadata": {},
     "output_type": "execute_result"
    }
   ],
   "source": [
    "list(inventory1.find({\"qty\" : {\"$gte\" : 50} }))"
   ]
  },
  {
   "cell_type": "code",
   "execution_count": 5,
   "id": "1e5b63c7",
   "metadata": {},
   "outputs": [
    {
     "data": {
      "text/plain": [
       "[{'_id': ObjectId('5fb55fad75b4eb537dc3d995'),\n",
       "  'item': 'paper',\n",
       "  'qty': 100,\n",
       "  'size': {'h': 8.5, 'w': 11, 'uom': 'in'},\n",
       "  'status': 'D'},\n",
       " {'_id': ObjectId('5fb55fad75b4eb537dc3d996'),\n",
       "  'item': 'planner',\n",
       "  'qty': 75,\n",
       "  'size': {'h': 22.85, 'w': 30, 'uom': 'cm'},\n",
       "  'status': 'D'}]"
      ]
     },
     "execution_count": 5,
     "metadata": {},
     "output_type": "execute_result"
    }
   ],
   "source": [
    "list(inventory1.find({\"status\" : \"D\", \"qty\" : {\"$gte\" : 50} }))"
   ]
  },
  {
   "cell_type": "code",
   "execution_count": 6,
   "id": "08fd5540",
   "metadata": {},
   "outputs": [
    {
     "data": {
      "text/plain": [
       "[{'_id': ObjectId('5fb55fad75b4eb537dc3d993'),\n",
       "  'item': 'journal',\n",
       "  'qty': 25,\n",
       "  'size': {'h': 14, 'w': 21, 'uom': 'cm'},\n",
       "  'status': 'A'},\n",
       " {'_id': ObjectId('5fb55fad75b4eb537dc3d995'),\n",
       "  'item': 'paper',\n",
       "  'qty': 100,\n",
       "  'size': {'h': 8.5, 'w': 11, 'uom': 'in'},\n",
       "  'status': 'D'},\n",
       " {'_id': ObjectId('5fb55fad75b4eb537dc3d996'),\n",
       "  'item': 'planner',\n",
       "  'qty': 75,\n",
       "  'size': {'h': 22.85, 'w': 30, 'uom': 'cm'},\n",
       "  'status': 'D'}]"
      ]
     },
     "execution_count": 6,
     "metadata": {},
     "output_type": "execute_result"
    }
   ],
   "source": [
    "list(inventory1.find({\"$or\": [{\"status\" : \"D\"}, {\"qty\" : {\"$lt\" : 30}}]}))"
   ]
  },
  {
   "cell_type": "code",
   "execution_count": 7,
   "id": "62e93c4a",
   "metadata": {},
   "outputs": [
    {
     "name": "stdout",
     "output_type": "stream",
     "text": [
      "[{'_id': ObjectId('5fb55fad75b4eb537dc3d993'), 'item': 'journal', 'qty': 25, 'size': {'h': 14, 'w': 21, 'uom': 'cm'}, 'status': 'A'}]\n",
      "===== Trying a different order of fields within\n",
      "[]\n"
     ]
    }
   ],
   "source": [
    "# exact match of nested document, including ordering of fields \n",
    "print(list(inventory1.find( {\"size\": { \"h\": 14, \"w\": 21, \"uom\": \"cm\"}})))\n",
    "print(\"===== Trying a different order of fields within\")\n",
    "print(list(inventory1.find( {\"size\": { \"w\": 21, \"h\": 14, \"uom\": \"cm\" }})))"
   ]
  },
  {
   "cell_type": "code",
   "execution_count": 8,
   "id": "06098d68",
   "metadata": {},
   "outputs": [
    {
     "data": {
      "text/plain": [
       "[{'_id': ObjectId('5fb55fad75b4eb537dc3d996'),\n",
       "  'item': 'planner',\n",
       "  'qty': 75,\n",
       "  'size': {'h': 22.85, 'w': 30, 'uom': 'cm'},\n",
       "  'status': 'D'}]"
      ]
     },
     "execution_count": 8,
     "metadata": {},
     "output_type": "execute_result"
    }
   ],
   "source": [
    "# querying a nested field\n",
    "# Note: when using . notation for sub-fields, expression must be in quotes\n",
    "# Also note: binary operator handled via a nested document\n",
    "list(inventory1.find ( { \"size.uom\" : \"cm\", \"size.h\" : {\"$gt\" : 14 }}))"
   ]
  },
  {
   "cell_type": "code",
   "execution_count": 12,
   "id": "a5bb3749",
   "metadata": {},
   "outputs": [
    {
     "data": {
      "text/plain": [
       "<pymongo.results.InsertManyResult at 0x7fc4096d6850>"
      ]
     },
     "execution_count": 12,
     "metadata": {},
     "output_type": "execute_result"
    }
   ],
   "source": [
    "inventory2 = db[\"inventory2\"]\n",
    "inventory2.insert_many([\n",
    "{ \"item\": \"journal\", \"instock\": [ { \"loc\": \"A\", \"qty\": 5 }, { \"loc\": \"C\", \"qty\": 15 } ], \"tags\": [\"blank\", \"red\"], \"dim\": [ 14, 21 ] },\n",
    "{ \"item\": \"notebook\", \"instock\": [ { \"loc\": \"C\", \"qty\": 5 } ], \"tags\": [\"red\", \"blank\"] , \"dim\": [ 14, 21 ]},\n",
    "{ \"item\": \"paper\", \"instock\": [ { \"loc\": \"A\", \"qty\": 60 }, { \"loc\": \"B\", \"qty\": 15 } ], \"tags\": [\"red\", \"blank\", \"plain\"] , \"dim\": [14, 21]},\n",
    "{ \"item\": \"planner\", \"instock\": [ { \"loc\": \"A\", \"qty\": 40 }, { \"loc\": \"B\", \"qty\": 5 } ], \"tags\": [\"blank\", \"red\"], \"dim\": [ 22.85, 30 ] },\n",
    "{ \"item\": \"postcard\", \"instock\": [ {\"loc\": \"B\", \"qty\": 15 }, { \"loc\": \"C\", \"qty\": 35 } ], \"tags\": [\"blue\"] , \"dim\": [ 10, 15.25 ]}\n",
    "])"
   ]
  },
  {
   "cell_type": "code",
   "execution_count": 10,
   "id": "d8469d70",
   "metadata": {},
   "outputs": [
    {
     "name": "stdout",
     "output_type": "stream",
     "text": [
      "-----------\n",
      "Exact match of array\n",
      "[{'_id': ObjectId('63698fd602be7269658d1ee3'), 'item': 'notebook', 'instock': [{'loc': 'C', 'qty': 5}], 'tags': ['red', 'blank'], 'dim': [14, 21]}]\n",
      "-----------\n",
      "If one of the elements matches red...\n",
      "[{'_id': ObjectId('63698fd602be7269658d1ee2'), 'item': 'journal', 'instock': [{'loc': 'A', 'qty': 5}, {'loc': 'C', 'qty': 15}], 'tags': ['blank', 'red'], 'dim': [14, 21]}, {'_id': ObjectId('63698fd602be7269658d1ee3'), 'item': 'notebook', 'instock': [{'loc': 'C', 'qty': 5}], 'tags': ['red', 'blank'], 'dim': [14, 21]}, {'_id': ObjectId('63698fd602be7269658d1ee4'), 'item': 'paper', 'instock': [{'loc': 'A', 'qty': 60}, {'loc': 'B', 'qty': 15}], 'tags': ['red', 'blank', 'plain'], 'dim': [14, 21]}, {'_id': ObjectId('63698fd602be7269658d1ee5'), 'item': 'planner', 'instock': [{'loc': 'A', 'qty': 40}, {'loc': 'B', 'qty': 5}], 'tags': ['blank', 'red'], 'dim': [22.85, 30]}]\n",
      "-----------\n",
      "If one matches red, one matches plain\n",
      "[{'_id': ObjectId('63698fd602be7269658d1ee4'), 'item': 'paper', 'instock': [{'loc': 'A', 'qty': 60}, {'loc': 'B', 'qty': 15}], 'tags': ['red', 'blank', 'plain'], 'dim': [14, 21]}]\n",
      "-----------\n",
      "If one element is >15 and another is <20\n",
      "[{'_id': ObjectId('63698fd602be7269658d1ee2'), 'item': 'journal', 'instock': [{'loc': 'A', 'qty': 5}, {'loc': 'C', 'qty': 15}], 'tags': ['blank', 'red'], 'dim': [14, 21]}, {'_id': ObjectId('63698fd602be7269658d1ee3'), 'item': 'notebook', 'instock': [{'loc': 'C', 'qty': 5}], 'tags': ['red', 'blank'], 'dim': [14, 21]}, {'_id': ObjectId('63698fd602be7269658d1ee4'), 'item': 'paper', 'instock': [{'loc': 'A', 'qty': 60}, {'loc': 'B', 'qty': 15}], 'tags': ['red', 'blank', 'plain'], 'dim': [14, 21]}, {'_id': ObjectId('63698fd602be7269658d1ee6'), 'item': 'postcard', 'instock': [{'loc': 'B', 'qty': 15}, {'loc': 'C', 'qty': 35}], 'tags': ['blue'], 'dim': [10, 15.25]}]\n",
      "-----------\n",
      "If a single element is >15 and <20\n",
      "[{'_id': ObjectId('63698fd602be7269658d1ee6'), 'item': 'postcard', 'instock': [{'loc': 'B', 'qty': 15}, {'loc': 'C', 'qty': 35}], 'tags': ['blue'], 'dim': [10, 15.25]}]\n",
      "-----------\n",
      "If second item > 25..\n",
      "Notice again that we use quotes to when using . notation\n",
      "[{'_id': ObjectId('63698fd602be7269658d1ee5'), 'item': 'planner', 'instock': [{'loc': 'A', 'qty': 40}, {'loc': 'B', 'qty': 5}], 'tags': ['blank', 'red'], 'dim': [22.85, 30]}]\n"
     ]
    }
   ],
   "source": [
    "print(\"-----------\")\n",
    "print(\"Exact match of array\")\n",
    "print(list(inventory2.find( { \"tags\": [\"red\", \"blank\"] } )))\n",
    "\n",
    "print(\"-----------\")\n",
    "print(\"If one of the elements matches red...\")\n",
    "print(list(inventory2.find( { \"tags\": \"red\" } )))\n",
    "\n",
    "print(\"-----------\")\n",
    "print(\"If one matches red, one matches plain\")\n",
    "print(list(inventory2.find( { \"tags\": \"red\", \"tags\": \"plain\" } )))\n",
    "\n",
    "print(\"-----------\")\n",
    "print(\"If one element is >15 and another is <20\")\n",
    "print(list(inventory2.find( { \"dim\": { \"$gt\": 15, \"$lt\": 20 } } )))\n",
    "\n",
    "print(\"-----------\")\n",
    "print(\"If a single element is >15 and <20\")\n",
    "print(list(inventory2.find( { \"dim\": {\"$elemMatch\": { \"$gt\": 15, \"$lt\": 20 } } } )))\n",
    "\n",
    "print(\"-----------\")\n",
    "print(\"If second item > 25..\")\n",
    "print(\"Notice again that we use quotes to when using . notation\")\n",
    "print(list(inventory2.find( { \"dim.1\": { \"$gt\": 25 } } )))"
   ]
  },
  {
   "cell_type": "code",
   "execution_count": 11,
   "id": "62f742f0",
   "metadata": {},
   "outputs": [
    {
     "name": "stdout",
     "output_type": "stream",
     "text": [
      "-----------\n",
      "Exact match of document [like nested doc/atomic array case]\n",
      "[{'_id': ObjectId('63698fd602be7269658d1ee2'), 'item': 'journal', 'instock': [{'loc': 'A', 'qty': 5}, {'loc': 'C', 'qty': 15}], 'tags': ['blank', 'red'], 'dim': [14, 21]}]\n",
      "-----------\n",
      "One nested doc has >= 20\n",
      "[{'_id': ObjectId('63698fd602be7269658d1ee4'), 'item': 'paper', 'instock': [{'loc': 'A', 'qty': 60}, {'loc': 'B', 'qty': 15}], 'tags': ['red', 'blank', 'plain'], 'dim': [14, 21]}, {'_id': ObjectId('63698fd602be7269658d1ee5'), 'item': 'planner', 'instock': [{'loc': 'A', 'qty': 40}, {'loc': 'B', 'qty': 5}], 'tags': ['blank', 'red'], 'dim': [22.85, 30]}, {'_id': ObjectId('63698fd602be7269658d1ee6'), 'item': 'postcard', 'instock': [{'loc': 'B', 'qty': 15}, {'loc': 'C', 'qty': 35}], 'tags': ['blue'], 'dim': [10, 15.25]}]\n",
      "-----------\n",
      "First nested doc has >= 20\n",
      "[{'_id': ObjectId('63698fd602be7269658d1ee4'), 'item': 'paper', 'instock': [{'loc': 'A', 'qty': 60}, {'loc': 'B', 'qty': 15}], 'tags': ['red', 'blank', 'plain'], 'dim': [14, 21]}, {'_id': ObjectId('63698fd602be7269658d1ee5'), 'item': 'planner', 'instock': [{'loc': 'A', 'qty': 40}, {'loc': 'B', 'qty': 5}], 'tags': ['blank', 'red'], 'dim': [22.85, 30]}]\n",
      "-----------\n",
      "One doc has  20 >= qty >10\n",
      "[{'_id': ObjectId('63698fd602be7269658d1ee2'), 'item': 'journal', 'instock': [{'loc': 'A', 'qty': 5}, {'loc': 'C', 'qty': 15}], 'tags': ['blank', 'red'], 'dim': [14, 21]}, {'_id': ObjectId('63698fd602be7269658d1ee4'), 'item': 'paper', 'instock': [{'loc': 'A', 'qty': 60}, {'loc': 'B', 'qty': 15}], 'tags': ['red', 'blank', 'plain'], 'dim': [14, 21]}, {'_id': ObjectId('63698fd602be7269658d1ee6'), 'item': 'postcard', 'instock': [{'loc': 'B', 'qty': 15}, {'loc': 'C', 'qty': 35}], 'tags': ['blue'], 'dim': [10, 15.25]}]\n",
      "-----------\n",
      "One doc has  20 >= qty, another has qty>10\n",
      "[{'_id': ObjectId('63698fd602be7269658d1ee2'), 'item': 'journal', 'instock': [{'loc': 'A', 'qty': 5}, {'loc': 'C', 'qty': 15}], 'tags': ['blank', 'red'], 'dim': [14, 21]}, {'_id': ObjectId('63698fd602be7269658d1ee4'), 'item': 'paper', 'instock': [{'loc': 'A', 'qty': 60}, {'loc': 'B', 'qty': 15}], 'tags': ['red', 'blank', 'plain'], 'dim': [14, 21]}, {'_id': ObjectId('63698fd602be7269658d1ee5'), 'item': 'planner', 'instock': [{'loc': 'A', 'qty': 40}, {'loc': 'B', 'qty': 5}], 'tags': ['blank', 'red'], 'dim': [22.85, 30]}, {'_id': ObjectId('63698fd602be7269658d1ee6'), 'item': 'postcard', 'instock': [{'loc': 'B', 'qty': 15}, {'loc': 'C', 'qty': 35}], 'tags': ['blue'], 'dim': [10, 15.25]}]\n"
     ]
    }
   ],
   "source": [
    "# Arrays of Documents\n",
    "print(\"-----------\")\n",
    "print(\"Exact match of document [like nested doc/atomic array case]\")\n",
    "print(list(inventory2.find( { \"instock\": { \"loc\": \"A\", \"qty\": 5 } } )))\n",
    "print(\"-----------\")\n",
    "print(\"One nested doc has >= 20\")\n",
    "print(list(inventory2.find( { \"instock.qty\": { \"$gte\" : 20 } } )))\n",
    "print(\"-----------\")\n",
    "print(\"First nested doc has >= 20\")\n",
    "print(list(inventory2.find( { \"instock.0.qty\": { \"$gte\" : 20 } } )))\n",
    "print(\"-----------\")\n",
    "print(\"One doc has  20 >= qty >10\")\n",
    "print(list(inventory2.find( { \"instock\": { \"$elemMatch\": { \"qty\": { \"$gt\": 10, \"$lte\": 20 } } } } )))\n",
    "print(\"-----------\")\n",
    "print(\"One doc has  20 >= qty, another has qty>10\")\n",
    "print(list(inventory2.find( { \"instock.qty\": { \"$gt\": 10, \"$lte\": 20 } } )))"
   ]
  },
  {
   "cell_type": "code",
   "execution_count": 12,
   "id": "e8dbb21f",
   "metadata": {},
   "outputs": [
    {
     "data": {
      "text/plain": [
       "[{'item': 'journal', 'instock': [{'loc': 'A'}, {'loc': 'C'}]},\n",
       " {'item': 'notebook', 'instock': [{'loc': 'C'}]},\n",
       " {'item': 'paper', 'instock': [{'loc': 'A'}, {'loc': 'B'}]},\n",
       " {'item': 'planner', 'instock': [{'loc': 'A'}, {'loc': 'B'}]},\n",
       " {'item': 'postcard', 'instock': [{'loc': 'B'}, {'loc': 'C'}]}]"
      ]
     },
     "execution_count": 12,
     "metadata": {},
     "output_type": "execute_result"
    }
   ],
   "source": [
    "list(inventory2.find({}, {\"item\": 1, \"instock.loc\": 1, \"_id\": 0}))"
   ]
  },
  {
   "cell_type": "code",
   "execution_count": 13,
   "id": "a2b97862",
   "metadata": {},
   "outputs": [
    {
     "data": {
      "text/plain": [
       "[{'_id': ObjectId('63698fd602be7269658d1ee2'),\n",
       "  'item': 'journal',\n",
       "  'instock': [{'loc': 'A', 'qty': 5}, {'loc': 'C', 'qty': 15}],\n",
       "  'tags': ['blank', 'red'],\n",
       "  'dim': [14, 21]}]"
      ]
     },
     "execution_count": 13,
     "metadata": {},
     "output_type": "execute_result"
    }
   ],
   "source": [
    "list(inventory2.find( { } ).limit(1))"
   ]
  },
  {
   "cell_type": "code",
   "execution_count": 1,
   "id": "e80dcf6a",
   "metadata": {},
   "outputs": [
    {
     "ename": "NameError",
     "evalue": "name 'db' is not defined",
     "output_type": "error",
     "traceback": [
      "\u001b[0;31m---------------------------------------------------------------------------\u001b[0m",
      "\u001b[0;31mNameError\u001b[0m                                 Traceback (most recent call last)",
      "\u001b[0;32m<ipython-input-1-cebf995d802f>\u001b[0m in \u001b[0;36m<module>\u001b[0;34m\u001b[0m\n\u001b[0;32m----> 1\u001b[0;31m \u001b[0mzips\u001b[0m \u001b[0;34m=\u001b[0m \u001b[0mdb\u001b[0m\u001b[0;34m[\u001b[0m\u001b[0;34m\"zips\"\u001b[0m\u001b[0;34m]\u001b[0m\u001b[0;34m\u001b[0m\u001b[0;34m\u001b[0m\u001b[0m\n\u001b[0m\u001b[1;32m      2\u001b[0m \u001b[0mlist\u001b[0m\u001b[0;34m(\u001b[0m\u001b[0mzips\u001b[0m\u001b[0;34m.\u001b[0m\u001b[0mfind\u001b[0m\u001b[0;34m(\u001b[0m\u001b[0;34m{\u001b[0m\u001b[0;34m}\u001b[0m\u001b[0;34m)\u001b[0m\u001b[0;34m.\u001b[0m\u001b[0mlimit\u001b[0m\u001b[0;34m(\u001b[0m\u001b[0;36m3\u001b[0m\u001b[0;34m)\u001b[0m\u001b[0;34m)\u001b[0m\u001b[0;34m\u001b[0m\u001b[0;34m\u001b[0m\u001b[0m\n",
      "\u001b[0;31mNameError\u001b[0m: name 'db' is not defined"
     ]
    }
   ],
   "source": [
    "zips = db[\"zips\"]\n",
    "list(zips.find({}).limit(3))"
   ]
  },
  {
   "cell_type": "code",
   "execution_count": 15,
   "id": "4bdb32ff",
   "metadata": {},
   "outputs": [
    {
     "data": {
      "text/plain": [
       "[]"
      ]
     },
     "execution_count": 15,
     "metadata": {},
     "output_type": "execute_result"
    }
   ],
   "source": [
    "## Find states with population > 15M, sort by decending order\n",
    "list(zips.aggregate( [\n",
    "{ \"$group\": { \"_id\": \"$state\", \"totalPop\": { \"$sum\": \"$pop\" } } },\n",
    "{ \"$match\": { \"totalPop\": { \"$gte\": 15000000 } } },\n",
    "{ \"$sort\" : { \"totalPop\" : -1 } }\n",
    " ] ))"
   ]
  },
  {
   "cell_type": "code",
   "execution_count": 2,
   "id": "fff62815",
   "metadata": {},
   "outputs": [
    {
     "ename": "SyntaxError",
     "evalue": "unexpected EOF while parsing (<ipython-input-2-3edf839df0b3>, line 7)",
     "output_type": "error",
     "traceback": [
      "\u001b[0;36m  File \u001b[0;32m\"<ipython-input-2-3edf839df0b3>\"\u001b[0;36m, line \u001b[0;32m7\u001b[0m\n\u001b[0;31m    with temp as (\u001b[0m\n\u001b[0m                  ^\u001b[0m\n\u001b[0;31mSyntaxError\u001b[0m\u001b[0;31m:\u001b[0m unexpected EOF while parsing\n"
     ]
    }
   ],
   "source": [
    "## Find average city population per state\n",
    "list(zips.aggregate( [\n",
    "{ \"$group\": { \"_id\": { \"state\": \"$state\", \"city\": \"$city\" }, \"pop\": { \"$sum\": \"$pop\" } } },\n",
    "{ \"$group\": { \"_id\": \"$_id.state\", \"avgCityPop\": { \"$avg\": \"$pop\" } } }\n",
    "] ))\n",
    "\n",
    "with temp as (\n",
    "    select state, city, sum(pop) as pop2\n",
    "    from zips\n",
    "    group by state, city)\n",
    "select state, avg(pop2)\n",
    "from temp\n",
    "gropu by state;"
   ]
  },
  {
   "cell_type": "code",
   "execution_count": 17,
   "id": "5854a9a3",
   "metadata": {},
   "outputs": [
    {
     "data": {
      "text/plain": [
       "[]"
      ]
     },
     "execution_count": 17,
     "metadata": {},
     "output_type": "execute_result"
    }
   ],
   "source": [
    "## Find, for every state, the biggest city and its population\n",
    "list(zips.aggregate( [ \n",
    "{ \"$group\": { \"_id\": { \"state\": \"$state\", \"city\": \"$city\" }, \"pop\": { \"$sum\": \"$pop\" } } },\n",
    "{ \"$sort\": { \"pop\": -1 } },\n",
    "{ \"$group\": { \"_id\" : \"$_id.state\", \"bigCity\": { \"$first\": \"$_id.city\" }, \"bigPop\": { \"$first\": \"$pop\" } } },\n",
    "{ \"$sort\" : {\"bigPop\" : -1} }\n",
    "] ))"
   ]
  },
  {
   "cell_type": "code",
   "execution_count": 18,
   "id": "ad307e25",
   "metadata": {},
   "outputs": [
    {
     "data": {
      "text/plain": [
       "[]"
      ]
     },
     "execution_count": 18,
     "metadata": {},
     "output_type": "execute_result"
    }
   ],
   "source": [
    "# If we only want to keep the state and city \n",
    "list(zips.aggregate([ \n",
    "{ \"$group\": { \"_id\": { \"state\": \"$state\", \"city\": \"$city\" }, \"pop\": { \"$sum\": \"$pop\" } } },\n",
    "{ \"$sort\": { \"pop\": -1 } },\n",
    "{ \"$group\": { \"_id\" : \"$_id.state\", \"bigCity\": { \"$first\": \"$_id.city\" }, \"bigPop\": { \"$first\": \"$pop\" } } },\n",
    "{ \"$sort\": {\"bigPop\" : -1} },\n",
    "{ \"$project\": {\"bigPop\" : 0} }\n",
    "] ))"
   ]
  },
  {
   "cell_type": "code",
   "execution_count": 19,
   "id": "330c4778",
   "metadata": {},
   "outputs": [
    {
     "data": {
      "text/plain": [
       "[]"
      ]
     },
     "execution_count": 19,
     "metadata": {},
     "output_type": "execute_result"
    }
   ],
   "source": [
    "# If we wanted to nest the name of the city and population into a nested doc\n",
    "\n",
    "list(zips.aggregate( [ \n",
    "{ \"$group\": { \"_id\": { \"state\": \"$state\", \"city\": \"$city\" }, \"pop\": { \"$sum\": \"$pop\" } } },\n",
    "{ \"$sort\": { \"pop\": -1 } },\n",
    "{ \"$group\": { \"_id\" : \"$_id.state\", \"bigCity\": { \"$first\": \"$_id.city\" }, \"bigPop\": { \"$first\": \"$pop\" } } },\n",
    "{ \"$sort\" : {\"bigPop\" : -1} },\n",
    "{ \"$project\": { \"_id\" : 0, \"state\" : \"$_id\", \"bigCityDeets\": { \"name\": \"$bigCity\", \"pop\": \"$bigPop\" } } }\n",
    "] ))"
   ]
  },
  {
   "cell_type": "code",
   "execution_count": 20,
   "id": "f8d0bd33",
   "metadata": {},
   "outputs": [
    {
     "data": {
      "text/plain": [
       "[{'item': 'journal', 'tags': 'blank', 'dim': [14, 21]},\n",
       " {'item': 'journal', 'tags': 'red', 'dim': [14, 21]},\n",
       " {'item': 'notebook', 'tags': 'red', 'dim': [14, 21]},\n",
       " {'item': 'notebook', 'tags': 'blank', 'dim': [14, 21]},\n",
       " {'item': 'paper', 'tags': 'red', 'dim': [14, 21]},\n",
       " {'item': 'paper', 'tags': 'blank', 'dim': [14, 21]},\n",
       " {'item': 'paper', 'tags': 'plain', 'dim': [14, 21]},\n",
       " {'item': 'planner', 'tags': 'blank', 'dim': [22.85, 30]},\n",
       " {'item': 'planner', 'tags': 'red', 'dim': [22.85, 30]},\n",
       " {'item': 'postcard', 'tags': 'blue', 'dim': [10, 15.25]}]"
      ]
     },
     "execution_count": 20,
     "metadata": {},
     "output_type": "execute_result"
    }
   ],
   "source": [
    "# Unwind expands an array by constructing documents one per element of the array\n",
    "# Somewhat like flatMap in Spark\n",
    "\n",
    "list(inventory2.aggregate( [\n",
    "{ \"$unwind\" : \"$tags\" },\n",
    "{ \"$project\" : {\"_id\" : 0, \"instock\": 0}}\n",
    "] ))"
   ]
  },
  {
   "cell_type": "code",
   "execution_count": 21,
   "id": "0ea255b6",
   "metadata": {},
   "outputs": [
    {
     "data": {
      "text/plain": [
       "[{'_id': 'paper', 'totalqty': 75},\n",
       " {'_id': 'journal', 'totalqty': 20},\n",
       " {'_id': 'planner', 'totalqty': 45},\n",
       " {'_id': 'notebook', 'totalqty': 5},\n",
       " {'_id': 'postcard', 'totalqty': 50}]"
      ]
     },
     "execution_count": 21,
     "metadata": {},
     "output_type": "execute_result"
    }
   ],
   "source": [
    "# Q: Imagine if we want to find sum of qtys across items. How would we do this?\n",
    "# A common recipe in MQL queries is to unwind and then group by\n",
    "\n",
    "list(inventory2.aggregate( [\n",
    "    { \"$unwind\" : \"$instock\" },\n",
    "    { \"$group\" : {\"_id\" : \"$item\", \"totalqty\" : {\"$sum\" : \"$instock.qty\"}}}\n",
    "] ))"
   ]
  },
  {
   "cell_type": "code",
   "execution_count": 16,
   "id": "0c6dc395",
   "metadata": {},
   "outputs": [
    {
     "data": {
      "text/plain": [
       "[{'item': 'journal',\n",
       "  'instock': [{'loc': 'A', 'qty': 5}, {'loc': 'C', 'qty': 15}],\n",
       "  'otheritems': [{'_id': ObjectId('636a71d782580fa39daf51d1'),\n",
       "    'item': 'journal',\n",
       "    'instock': [{'loc': 'A', 'qty': 5}, {'loc': 'C', 'qty': 15}],\n",
       "    'tags': ['blank', 'red'],\n",
       "    'dim': [14, 21]},\n",
       "   {'_id': ObjectId('636a71d782580fa39daf51d2'),\n",
       "    'item': 'notebook',\n",
       "    'instock': [{'loc': 'C', 'qty': 5}],\n",
       "    'tags': ['red', 'blank'],\n",
       "    'dim': [14, 21]},\n",
       "   {'_id': ObjectId('636a71d782580fa39daf51d3'),\n",
       "    'item': 'paper',\n",
       "    'instock': [{'loc': 'A', 'qty': 60}, {'loc': 'B', 'qty': 15}],\n",
       "    'tags': ['red', 'blank', 'plain'],\n",
       "    'dim': [14, 21]},\n",
       "   {'_id': ObjectId('636a71d782580fa39daf51d4'),\n",
       "    'item': 'planner',\n",
       "    'instock': [{'loc': 'A', 'qty': 40}, {'loc': 'B', 'qty': 5}],\n",
       "    'tags': ['blank', 'red'],\n",
       "    'dim': [22.85, 30]},\n",
       "   {'_id': ObjectId('636a71d782580fa39daf51d5'),\n",
       "    'item': 'postcard',\n",
       "    'instock': [{'loc': 'B', 'qty': 15}, {'loc': 'C', 'qty': 35}],\n",
       "    'tags': ['blue'],\n",
       "    'dim': [10, 15.25]}]},\n",
       " {'item': 'notebook',\n",
       "  'instock': [{'loc': 'C', 'qty': 5}],\n",
       "  'otheritems': [{'_id': ObjectId('636a71d782580fa39daf51d1'),\n",
       "    'item': 'journal',\n",
       "    'instock': [{'loc': 'A', 'qty': 5}, {'loc': 'C', 'qty': 15}],\n",
       "    'tags': ['blank', 'red'],\n",
       "    'dim': [14, 21]},\n",
       "   {'_id': ObjectId('636a71d782580fa39daf51d2'),\n",
       "    'item': 'notebook',\n",
       "    'instock': [{'loc': 'C', 'qty': 5}],\n",
       "    'tags': ['red', 'blank'],\n",
       "    'dim': [14, 21]},\n",
       "   {'_id': ObjectId('636a71d782580fa39daf51d5'),\n",
       "    'item': 'postcard',\n",
       "    'instock': [{'loc': 'B', 'qty': 15}, {'loc': 'C', 'qty': 35}],\n",
       "    'tags': ['blue'],\n",
       "    'dim': [10, 15.25]}]},\n",
       " {'item': 'paper',\n",
       "  'instock': [{'loc': 'A', 'qty': 60}, {'loc': 'B', 'qty': 15}],\n",
       "  'otheritems': [{'_id': ObjectId('636a71d782580fa39daf51d1'),\n",
       "    'item': 'journal',\n",
       "    'instock': [{'loc': 'A', 'qty': 5}, {'loc': 'C', 'qty': 15}],\n",
       "    'tags': ['blank', 'red'],\n",
       "    'dim': [14, 21]},\n",
       "   {'_id': ObjectId('636a71d782580fa39daf51d3'),\n",
       "    'item': 'paper',\n",
       "    'instock': [{'loc': 'A', 'qty': 60}, {'loc': 'B', 'qty': 15}],\n",
       "    'tags': ['red', 'blank', 'plain'],\n",
       "    'dim': [14, 21]},\n",
       "   {'_id': ObjectId('636a71d782580fa39daf51d4'),\n",
       "    'item': 'planner',\n",
       "    'instock': [{'loc': 'A', 'qty': 40}, {'loc': 'B', 'qty': 5}],\n",
       "    'tags': ['blank', 'red'],\n",
       "    'dim': [22.85, 30]},\n",
       "   {'_id': ObjectId('636a71d782580fa39daf51d5'),\n",
       "    'item': 'postcard',\n",
       "    'instock': [{'loc': 'B', 'qty': 15}, {'loc': 'C', 'qty': 35}],\n",
       "    'tags': ['blue'],\n",
       "    'dim': [10, 15.25]}]},\n",
       " {'item': 'planner',\n",
       "  'instock': [{'loc': 'A', 'qty': 40}, {'loc': 'B', 'qty': 5}],\n",
       "  'otheritems': [{'_id': ObjectId('636a71d782580fa39daf51d1'),\n",
       "    'item': 'journal',\n",
       "    'instock': [{'loc': 'A', 'qty': 5}, {'loc': 'C', 'qty': 15}],\n",
       "    'tags': ['blank', 'red'],\n",
       "    'dim': [14, 21]},\n",
       "   {'_id': ObjectId('636a71d782580fa39daf51d3'),\n",
       "    'item': 'paper',\n",
       "    'instock': [{'loc': 'A', 'qty': 60}, {'loc': 'B', 'qty': 15}],\n",
       "    'tags': ['red', 'blank', 'plain'],\n",
       "    'dim': [14, 21]},\n",
       "   {'_id': ObjectId('636a71d782580fa39daf51d4'),\n",
       "    'item': 'planner',\n",
       "    'instock': [{'loc': 'A', 'qty': 40}, {'loc': 'B', 'qty': 5}],\n",
       "    'tags': ['blank', 'red'],\n",
       "    'dim': [22.85, 30]},\n",
       "   {'_id': ObjectId('636a71d782580fa39daf51d5'),\n",
       "    'item': 'postcard',\n",
       "    'instock': [{'loc': 'B', 'qty': 15}, {'loc': 'C', 'qty': 35}],\n",
       "    'tags': ['blue'],\n",
       "    'dim': [10, 15.25]}]},\n",
       " {'item': 'postcard',\n",
       "  'instock': [{'loc': 'B', 'qty': 15}, {'loc': 'C', 'qty': 35}],\n",
       "  'otheritems': [{'_id': ObjectId('636a71d782580fa39daf51d1'),\n",
       "    'item': 'journal',\n",
       "    'instock': [{'loc': 'A', 'qty': 5}, {'loc': 'C', 'qty': 15}],\n",
       "    'tags': ['blank', 'red'],\n",
       "    'dim': [14, 21]},\n",
       "   {'_id': ObjectId('636a71d782580fa39daf51d2'),\n",
       "    'item': 'notebook',\n",
       "    'instock': [{'loc': 'C', 'qty': 5}],\n",
       "    'tags': ['red', 'blank'],\n",
       "    'dim': [14, 21]},\n",
       "   {'_id': ObjectId('636a71d782580fa39daf51d3'),\n",
       "    'item': 'paper',\n",
       "    'instock': [{'loc': 'A', 'qty': 60}, {'loc': 'B', 'qty': 15}],\n",
       "    'tags': ['red', 'blank', 'plain'],\n",
       "    'dim': [14, 21]},\n",
       "   {'_id': ObjectId('636a71d782580fa39daf51d4'),\n",
       "    'item': 'planner',\n",
       "    'instock': [{'loc': 'A', 'qty': 40}, {'loc': 'B', 'qty': 5}],\n",
       "    'tags': ['blank', 'red'],\n",
       "    'dim': [22.85, 30]},\n",
       "   {'_id': ObjectId('636a71d782580fa39daf51d5'),\n",
       "    'item': 'postcard',\n",
       "    'instock': [{'loc': 'B', 'qty': 15}, {'loc': 'C', 'qty': 35}],\n",
       "    'tags': ['blue'],\n",
       "    'dim': [10, 15.25]}]}]"
      ]
     },
     "execution_count": 16,
     "metadata": {},
     "output_type": "execute_result"
    }
   ],
   "source": [
    "# Conceptually, for each document,  find documents in other collection that join (equijoin)\n",
    "# local field must match foreign field\n",
    "# place each of them in an array\n",
    "#\n",
    "# Thus, a left outer equi-join, with the join results stored in an array\n",
    "\n",
    "list(inventory2.aggregate( [\n",
    "{ \"$lookup\" : {\"from\" : \"inventory2\", \"localField\": \"instock.loc\", \"foreignField\": \"instock.loc\", \"as\":\"otheritems\"}},\n",
    "{ \"$project\" : {\"_id\" : 0, \"tags\" : 0, \"dim\" : 0}}\n",
    "] ))"
   ]
  },
  {
   "cell_type": "code",
   "execution_count": 10,
   "id": "0f12ed84",
   "metadata": {},
   "outputs": [
    {
     "data": {
      "text/plain": [
       "[]"
      ]
     },
     "execution_count": 10,
     "metadata": {},
     "output_type": "execute_result"
    }
   ],
   "source": [
    "# Lookup.. after some more projection\n",
    "list(inventory2.aggregate([\n",
    "{\"$lookup\" : {\"from\":\"inventory2\", \"localField\":\"instock.loc\", \"foreignField\":\"instock.loc\", \"as\":\"otheritems\"}},\n",
    "{\"$project\" : {\"_id\" : 0, \"tags\" :0, \"dim\" :0, \"otheritems._id\":0, \"otheritems.tags\":0, \"otheritems.dim\":0, \"otheritems.instock.qty\":0}} ] )\n",
    "    )"
   ]
  },
  {
   "cell_type": "code",
   "execution_count": 6,
   "id": "7ebc2c05",
   "metadata": {},
   "outputs": [
    {
     "data": {
      "text/plain": [
       "[{'item': 'journal', 'tags': 'blank', 'dim': [14, 21]},\n",
       " {'item': 'journal', 'tags': 'red', 'dim': [14, 21]},\n",
       " {'item': 'notebook', 'tags': 'red', 'dim': [14, 21]},\n",
       " {'item': 'notebook', 'tags': 'blank', 'dim': [14, 21]},\n",
       " {'item': 'paper', 'tags': 'red', 'dim': [14, 21]},\n",
       " {'item': 'paper', 'tags': 'blank', 'dim': [14, 21]},\n",
       " {'item': 'paper', 'tags': 'plain', 'dim': [14, 21]},\n",
       " {'item': 'planner', 'tags': 'blank', 'dim': [22.85, 30]},\n",
       " {'item': 'planner', 'tags': 'red', 'dim': [22.85, 30]},\n",
       " {'item': 'postcard', 'tags': 'blue', 'dim': [10, 15.25]}]"
      ]
     },
     "execution_count": 6,
     "metadata": {},
     "output_type": "execute_result"
    }
   ],
   "source": [
    "inventory3 = db[\"inventory3\"]\n",
    "inventory3.insert_many([\n",
    "{ \"item\": \"journal\", \"instock\": [ { \"loc\": \"A\", \"qty\": 5 }, { \"loc\": \"C\", \"qty\": 15 } ], \"tags\": [\"blank\", \"red\"], \"dim\": [ 14, 21 ] },\n",
    "{ \"item\": \"notebook\", \"instock\": [ { \"loc\": \"C\", \"qty\": 5 } ], \"tags\": [\"red\", \"blank\"] , \"dim\": [ 14, 21 ]},\n",
    "{ \"item\": \"paper\", \"instock\": [ { \"loc\": \"A\", \"qty\": 60 }, { \"loc\": \"B\", \"qty\": 15 } ], \"tags\": [\"red\", \"blank\", \"plain\"] , \"dim\": [14, 21]},\n",
    "{ \"item\": \"planner\", \"instock\": [ { \"loc\": \"A\", \"qty\": 40 }, { \"loc\": \"B\", \"qty\": 5 } ], \"tags\": [\"blank\", \"red\"], \"dim\": [ 22.85, 30 ] },\n",
    "{ \"item\": \"postcard\", \"instock\": [ {\"loc\": \"B\", \"qty\": 15 }, { \"loc\": \"C\", \"qty\": 35 } ], \"tags\": [\"blue\"] , \"dim\": [ 10, 15.25 ]},\n",
    "{ \"item\": \"postcard2\", \"instock\": [ {\"loc\": \"B\", \"qty\": 15 }, { \"loc\": \"C\", \"qty\": 35 } ], \"tags\": [] , \"dim\": [ 10, 15.25 ]},\n",
    "{ \"item\": \"postcard3\", \"instock\": [ {\"loc\": \"B\", \"qty\": 15 }, { \"loc\": \"C\", \"qty\": 35 } ], \"dim\": [ 10, 15.25 ]}\n",
    "])\n",
    "\n",
    "list(inventory3.aggregate( [\n",
    "{ \"$unwind\" : \"$tags\" },\n",
    "{ \"$project\" : {\"_id\" : 0, \"instock\": 0}}\n",
    "] ))"
   ]
  },
  {
   "cell_type": "code",
   "execution_count": 7,
   "id": "05ac1afa",
   "metadata": {},
   "outputs": [
    {
     "data": {
      "text/plain": [
       "[{'_id': ObjectId('636a707282580fa39daf51ca'),\n",
       "  'item': 'journal',\n",
       "  'instock': [{'loc': 'A', 'qty': 5}, {'loc': 'C', 'qty': 15}],\n",
       "  'tags': ['blank', 'red'],\n",
       "  'dim': [14, 21]},\n",
       " {'_id': ObjectId('636a707282580fa39daf51cb'),\n",
       "  'item': 'notebook',\n",
       "  'instock': [{'loc': 'C', 'qty': 5}],\n",
       "  'tags': ['red', 'blank'],\n",
       "  'dim': [14, 21]},\n",
       " {'_id': ObjectId('636a707282580fa39daf51cc'),\n",
       "  'item': 'paper',\n",
       "  'instock': [{'loc': 'A', 'qty': 60}, {'loc': 'B', 'qty': 15}],\n",
       "  'tags': ['red', 'blank', 'plain'],\n",
       "  'dim': [14, 21]},\n",
       " {'_id': ObjectId('636a707282580fa39daf51cd'),\n",
       "  'item': 'planner',\n",
       "  'instock': [{'loc': 'A', 'qty': 40}, {'loc': 'B', 'qty': 5}],\n",
       "  'tags': ['blank', 'red'],\n",
       "  'dim': [22.85, 30]},\n",
       " {'_id': ObjectId('636a707282580fa39daf51ce'),\n",
       "  'item': 'postcard',\n",
       "  'instock': [{'loc': 'B', 'qty': 15}, {'loc': 'C', 'qty': 35}],\n",
       "  'tags': ['blue'],\n",
       "  'dim': [10, 15.25]},\n",
       " {'_id': ObjectId('636a707282580fa39daf51cf'),\n",
       "  'item': 'postcard2',\n",
       "  'instock': [{'loc': 'B', 'qty': 15}, {'loc': 'C', 'qty': 35}],\n",
       "  'tags': [],\n",
       "  'dim': [10, 15.25]},\n",
       " {'_id': ObjectId('636a707282580fa39daf51d0'),\n",
       "  'item': 'postcard3',\n",
       "  'instock': [{'loc': 'B', 'qty': 15}, {'loc': 'C', 'qty': 35}],\n",
       "  'dim': [10, 15.25]}]"
      ]
     },
     "execution_count": 7,
     "metadata": {},
     "output_type": "execute_result"
    }
   ],
   "source": [
    "list(inventory3.find({}))"
   ]
  },
  {
   "cell_type": "code",
   "execution_count": 11,
   "id": "83178619",
   "metadata": {},
   "outputs": [
    {
     "data": {
      "text/plain": [
       "[]"
      ]
     },
     "execution_count": 11,
     "metadata": {},
     "output_type": "execute_result"
    }
   ],
   "source": [
    "inventory2 = db[\"inventory2\"]\n",
    "\n",
    "list(inventory2.find({}))"
   ]
  },
  {
   "cell_type": "code",
   "execution_count": null,
   "id": "b05a6929",
   "metadata": {},
   "outputs": [],
   "source": []
  }
 ],
 "metadata": {
  "kernelspec": {
   "display_name": "Python 3",
   "language": "python",
   "name": "python3"
  },
  "language_info": {
   "codemirror_mode": {
    "name": "ipython",
    "version": 3
   },
   "file_extension": ".py",
   "mimetype": "text/x-python",
   "name": "python",
   "nbconvert_exporter": "python",
   "pygments_lexer": "ipython3",
   "version": "3.8.10"
  }
 },
 "nbformat": 4,
 "nbformat_minor": 5
}
